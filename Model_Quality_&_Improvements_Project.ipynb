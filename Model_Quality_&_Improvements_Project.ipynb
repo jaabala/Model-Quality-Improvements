{
  "nbformat": 4,
  "nbformat_minor": 0,
  "metadata": {
    "colab": {
      "name": "Model Quality & Improvements Project.ipynb",
      "provenance": [],
      "collapsed_sections": []
    },
    "kernelspec": {
      "name": "python3",
      "display_name": "Python 3"
    },
    "language_info": {
      "name": "python"
    }
  },
  "cells": [
    {
      "cell_type": "markdown",
      "metadata": {
        "id": "Cpp_7QgWVnk9"
      },
      "source": [
        "#1. Specify the question and project goal\n"
      ]
    },
    {
      "cell_type": "markdown",
      "metadata": {
        "id": "XecOwPNorl2W"
      },
      "source": [
        "### a) Specifying the Data Analysis Question\n",
        "\n",
        "What is your research question? What problem is it that you are trying to solve?\n",
        "\n",
        "The task is to predict whether a patient will be diagnosed with diabetes based on the provided variables\n",
        "\n"
      ]
    },
    {
      "cell_type": "markdown",
      "metadata": {
        "id": "J4wfHZwQrs-t"
      },
      "source": [
        "### b) Defining the Metric for Success\n",
        "\n",
        "What will convince you that your project has succeeded?\n",
        "\n",
        "a model with accuracy greater than 0.85"
      ]
    },
    {
      "cell_type": "markdown",
      "metadata": {
        "id": "a9BPYqunry97"
      },
      "source": [
        "### c) Understanding the context \n",
        "\n",
        "The background information surrounding the problem or research question.\n",
        "\n",
        "The data is collected and shared by a pharmaceutical company whos aim is to predict with high accuracy a patients diabetes diagnosis \n"
      ]
    },
    {
      "cell_type": "markdown",
      "metadata": {
        "id": "7KMRBJ7zr9HD"
      },
      "source": [
        "### d) Recording the Experimental Design\n",
        "\n",
        "The steps you will take from the beginning to the end of this project.\n",
        "\n",
        "Data collection, cleaning and understanding, followed by creating a model, training and testing it, reviewing the outcome and challenging the results."
      ]
    },
    {
      "cell_type": "markdown",
      "metadata": {
        "id": "zSGyg6kWsBUl"
      },
      "source": [
        "### e) Data Relevance\n",
        "\n",
        "Is your data relevant to the problem or research question?\n",
        "\n",
        "Yes, the data provided is relevant, as these are the key factors in determining a diabetes diagnosis"
      ]
    },
    {
      "cell_type": "markdown",
      "metadata": {
        "id": "iUNbvIvnT7ep"
      },
      "source": [
        "## <font color='#2F4F4F'>2. Data Cleaning & Preparation</font>"
      ]
    },
    {
      "cell_type": "markdown",
      "metadata": {
        "id": "EEJuzr0lBDB0"
      },
      "source": [
        "Step 1: Load libraries and import data"
      ]
    },
    {
      "cell_type": "code",
      "metadata": {
        "id": "gTtmJjEdA9IW"
      },
      "source": [
        "#Loading libraries\n",
        "import pandas as pd"
      ],
      "execution_count": 1,
      "outputs": []
    },
    {
      "cell_type": "markdown",
      "metadata": {
        "id": "ejdC8KWwBRBY"
      },
      "source": [
        "Step 2: Import dataset and explore"
      ]
    },
    {
      "cell_type": "code",
      "metadata": {
        "colab": {
          "base_uri": "https://localhost:8080/",
          "height": 359
        },
        "id": "02jNsajTBOWY",
        "outputId": "38bca9b9-d6be-47e3-ee7a-0c24ac3acfdd"
      },
      "source": [
        "#Import data and explore\n",
        "\n",
        "df=pd.read_csv('https://bit.ly/DiabetesDS')\n",
        "\n",
        "df.sample(10)"
      ],
      "execution_count": 2,
      "outputs": [
        {
          "output_type": "execute_result",
          "data": {
            "text/html": [
              "<div>\n",
              "<style scoped>\n",
              "    .dataframe tbody tr th:only-of-type {\n",
              "        vertical-align: middle;\n",
              "    }\n",
              "\n",
              "    .dataframe tbody tr th {\n",
              "        vertical-align: top;\n",
              "    }\n",
              "\n",
              "    .dataframe thead th {\n",
              "        text-align: right;\n",
              "    }\n",
              "</style>\n",
              "<table border=\"1\" class=\"dataframe\">\n",
              "  <thead>\n",
              "    <tr style=\"text-align: right;\">\n",
              "      <th></th>\n",
              "      <th>Pregnancies</th>\n",
              "      <th>Glucose</th>\n",
              "      <th>BloodPressure</th>\n",
              "      <th>SkinThickness</th>\n",
              "      <th>Insulin</th>\n",
              "      <th>BMI</th>\n",
              "      <th>DiabetesPedigreeFunction</th>\n",
              "      <th>Age</th>\n",
              "      <th>Outcome</th>\n",
              "    </tr>\n",
              "  </thead>\n",
              "  <tbody>\n",
              "    <tr>\n",
              "      <th>654</th>\n",
              "      <td>1</td>\n",
              "      <td>106</td>\n",
              "      <td>70</td>\n",
              "      <td>28</td>\n",
              "      <td>135</td>\n",
              "      <td>34.2</td>\n",
              "      <td>0.142</td>\n",
              "      <td>22</td>\n",
              "      <td>0</td>\n",
              "    </tr>\n",
              "    <tr>\n",
              "      <th>292</th>\n",
              "      <td>2</td>\n",
              "      <td>128</td>\n",
              "      <td>78</td>\n",
              "      <td>37</td>\n",
              "      <td>182</td>\n",
              "      <td>43.3</td>\n",
              "      <td>1.224</td>\n",
              "      <td>31</td>\n",
              "      <td>1</td>\n",
              "    </tr>\n",
              "    <tr>\n",
              "      <th>18</th>\n",
              "      <td>1</td>\n",
              "      <td>103</td>\n",
              "      <td>30</td>\n",
              "      <td>38</td>\n",
              "      <td>83</td>\n",
              "      <td>43.3</td>\n",
              "      <td>0.183</td>\n",
              "      <td>33</td>\n",
              "      <td>0</td>\n",
              "    </tr>\n",
              "    <tr>\n",
              "      <th>624</th>\n",
              "      <td>2</td>\n",
              "      <td>108</td>\n",
              "      <td>64</td>\n",
              "      <td>0</td>\n",
              "      <td>0</td>\n",
              "      <td>30.8</td>\n",
              "      <td>0.158</td>\n",
              "      <td>21</td>\n",
              "      <td>0</td>\n",
              "    </tr>\n",
              "    <tr>\n",
              "      <th>69</th>\n",
              "      <td>4</td>\n",
              "      <td>146</td>\n",
              "      <td>85</td>\n",
              "      <td>27</td>\n",
              "      <td>100</td>\n",
              "      <td>28.9</td>\n",
              "      <td>0.189</td>\n",
              "      <td>27</td>\n",
              "      <td>0</td>\n",
              "    </tr>\n",
              "    <tr>\n",
              "      <th>745</th>\n",
              "      <td>12</td>\n",
              "      <td>100</td>\n",
              "      <td>84</td>\n",
              "      <td>33</td>\n",
              "      <td>105</td>\n",
              "      <td>30.0</td>\n",
              "      <td>0.488</td>\n",
              "      <td>46</td>\n",
              "      <td>0</td>\n",
              "    </tr>\n",
              "    <tr>\n",
              "      <th>93</th>\n",
              "      <td>4</td>\n",
              "      <td>134</td>\n",
              "      <td>72</td>\n",
              "      <td>0</td>\n",
              "      <td>0</td>\n",
              "      <td>23.8</td>\n",
              "      <td>0.277</td>\n",
              "      <td>60</td>\n",
              "      <td>1</td>\n",
              "    </tr>\n",
              "    <tr>\n",
              "      <th>394</th>\n",
              "      <td>4</td>\n",
              "      <td>158</td>\n",
              "      <td>78</td>\n",
              "      <td>0</td>\n",
              "      <td>0</td>\n",
              "      <td>32.9</td>\n",
              "      <td>0.803</td>\n",
              "      <td>31</td>\n",
              "      <td>1</td>\n",
              "    </tr>\n",
              "    <tr>\n",
              "      <th>461</th>\n",
              "      <td>1</td>\n",
              "      <td>71</td>\n",
              "      <td>62</td>\n",
              "      <td>0</td>\n",
              "      <td>0</td>\n",
              "      <td>21.8</td>\n",
              "      <td>0.416</td>\n",
              "      <td>26</td>\n",
              "      <td>0</td>\n",
              "    </tr>\n",
              "    <tr>\n",
              "      <th>89</th>\n",
              "      <td>1</td>\n",
              "      <td>107</td>\n",
              "      <td>68</td>\n",
              "      <td>19</td>\n",
              "      <td>0</td>\n",
              "      <td>26.5</td>\n",
              "      <td>0.165</td>\n",
              "      <td>24</td>\n",
              "      <td>0</td>\n",
              "    </tr>\n",
              "  </tbody>\n",
              "</table>\n",
              "</div>"
            ],
            "text/plain": [
              "     Pregnancies  Glucose  ...  Age  Outcome\n",
              "654            1      106  ...   22        0\n",
              "292            2      128  ...   31        1\n",
              "18             1      103  ...   33        0\n",
              "624            2      108  ...   21        0\n",
              "69             4      146  ...   27        0\n",
              "745           12      100  ...   46        0\n",
              "93             4      134  ...   60        1\n",
              "394            4      158  ...   31        1\n",
              "461            1       71  ...   26        0\n",
              "89             1      107  ...   24        0\n",
              "\n",
              "[10 rows x 9 columns]"
            ]
          },
          "metadata": {},
          "execution_count": 2
        }
      ]
    },
    {
      "cell_type": "code",
      "metadata": {
        "colab": {
          "base_uri": "https://localhost:8080/"
        },
        "id": "fxx2tdEe3Pv-",
        "outputId": "f4b70b79-4173-4251-dfc3-4ca7114202c5"
      },
      "source": [
        "#preview the dataset shape\n",
        "df.shape"
      ],
      "execution_count": 3,
      "outputs": [
        {
          "output_type": "execute_result",
          "data": {
            "text/plain": [
              "(768, 9)"
            ]
          },
          "metadata": {},
          "execution_count": 3
        }
      ]
    },
    {
      "cell_type": "code",
      "metadata": {
        "colab": {
          "base_uri": "https://localhost:8080/"
        },
        "id": "qyaEo_ku3Rvh",
        "outputId": "76144357-42e1-41f2-bdd3-3021069a0a12"
      },
      "source": [
        "#look for duplicates\n",
        "sum(df.duplicated())\n",
        "# ther are no duplicated records in the dataset"
      ],
      "execution_count": 4,
      "outputs": [
        {
          "output_type": "execute_result",
          "data": {
            "text/plain": [
              "0"
            ]
          },
          "metadata": {},
          "execution_count": 4
        }
      ]
    },
    {
      "cell_type": "code",
      "metadata": {
        "colab": {
          "base_uri": "https://localhost:8080/"
        },
        "id": "vfgiClN03TSD",
        "outputId": "db0fc595-c50c-4137-d9c2-ce1662ec62ea"
      },
      "source": [
        "#look for missing values\n",
        "df.isnull().sum()\n",
        "\n",
        "#there are no missing values in the dataset"
      ],
      "execution_count": 5,
      "outputs": [
        {
          "output_type": "execute_result",
          "data": {
            "text/plain": [
              "Pregnancies                 0\n",
              "Glucose                     0\n",
              "BloodPressure               0\n",
              "SkinThickness               0\n",
              "Insulin                     0\n",
              "BMI                         0\n",
              "DiabetesPedigreeFunction    0\n",
              "Age                         0\n",
              "Outcome                     0\n",
              "dtype: int64"
            ]
          },
          "metadata": {},
          "execution_count": 5
        }
      ]
    },
    {
      "cell_type": "code",
      "metadata": {
        "colab": {
          "base_uri": "https://localhost:8080/"
        },
        "id": "Sue_hpQN3W8j",
        "outputId": "97cd1039-54a7-47c8-a47f-84c7c5a30176"
      },
      "source": [
        "#preview datatypes\n",
        "df.dtypes\n",
        "\n",
        "#no encoding is needed in order to allow the dataset to be used in modelling"
      ],
      "execution_count": 6,
      "outputs": [
        {
          "output_type": "execute_result",
          "data": {
            "text/plain": [
              "Pregnancies                   int64\n",
              "Glucose                       int64\n",
              "BloodPressure                 int64\n",
              "SkinThickness                 int64\n",
              "Insulin                       int64\n",
              "BMI                         float64\n",
              "DiabetesPedigreeFunction    float64\n",
              "Age                           int64\n",
              "Outcome                       int64\n",
              "dtype: object"
            ]
          },
          "metadata": {},
          "execution_count": 6
        }
      ]
    },
    {
      "cell_type": "markdown",
      "metadata": {
        "id": "xvs-X851ZAb_"
      },
      "source": [
        "## <font color='#2F4F4F'>3. Modelling</font>\n",
        "\n",
        "We will model the Diabetes data set using 3 models and evaluate "
      ]
    },
    {
      "cell_type": "code",
      "metadata": {
        "colab": {
          "base_uri": "https://localhost:8080/"
        },
        "id": "oTgvxiJM4qtb",
        "outputId": "d93ab372-ea1e-483f-e6be-e670500df3e7"
      },
      "source": [
        "#Step 1 is to split the data into training and testing data sets using a split of 75/25\n",
        "\n",
        "from sklearn.model_selection import train_test_split\n",
        "\n",
        "df_train, df_valid = train_test_split(df, test_size=0.25, random_state=12345)\n",
        "\n",
        "features_train =df_train.drop(['Outcome'], axis=1)\n",
        "target_train = df_train['Outcome']\n",
        "features_valid = df_valid.drop(['Outcome'], axis=1)\n",
        "target_valid = df_valid['Outcome']\n",
        "\n",
        "print(features_train.shape)\n",
        "print(target_train.shape)\n",
        "print(features_valid.shape)\n",
        "print(target_valid.shape)"
      ],
      "execution_count": 7,
      "outputs": [
        {
          "output_type": "stream",
          "name": "stdout",
          "text": [
            "(576, 8)\n",
            "(576,)\n",
            "(192, 8)\n",
            "(192,)\n"
          ]
        }
      ]
    },
    {
      "cell_type": "markdown",
      "metadata": {
        "id": "fPYcWaajDMR5"
      },
      "source": [
        "# Decision Tree Modelling\n"
      ]
    },
    {
      "cell_type": "markdown",
      "metadata": {
        "id": "dV3_itReDVtw"
      },
      "source": [
        "Step 1& 2: Data Modelling & Evaluation"
      ]
    },
    {
      "cell_type": "code",
      "metadata": {
        "colab": {
          "base_uri": "https://localhost:8080/"
        },
        "id": "M8jUHpzCDU9H",
        "outputId": "3ba99862-ea17-4fc5-bc2f-338c43b263ce"
      },
      "source": [
        "from sklearn.tree import DecisionTreeClassifier\n",
        "from sklearn.metrics i \n",
        "model = DecisionTreeClassifier(random_state=12345, max_depth = 20)\n",
        "model.fit(features_train, target_train)\n",
        "\n",
        "#convert features_valid to series to a 1d array for the prediction to work\n",
        "predicted_valid = pd.Series(model.predict(features_valid))\n",
        "\n",
        "# compares predicted values vs actual values to determine accuracy of the model\n",
        "accuracy_valid = accuracy_score(predicted_valid,target_valid)\n",
        "\n",
        "print(accuracy_valid)"
      ],
      "execution_count": 11,
      "outputs": [
        {
          "output_type": "stream",
          "name": "stdout",
          "text": [
            "0.78125\n"
          ]
        }
      ]
    },
    {
      "cell_type": "markdown",
      "metadata": {
        "id": "YoeXwFp9D0Wd"
      },
      "source": [
        "Step 3: Hyperparameter Tuning"
      ]
    },
    {
      "cell_type": "code",
      "metadata": {
        "colab": {
          "base_uri": "https://localhost:8080/"
        },
        "id": "EbObKjE7EAfB",
        "outputId": "6a756cc1-9807-427f-e9a1-ddfc6e67dcf1"
      },
      "source": [
        "for depth in range(1,30):\n",
        "        model = DecisionTreeClassifier(random_state=12345,max_depth=depth)\n",
        "        # < recreate the model, specifying max_depth=depth >\n",
        "\n",
        "        model.fit(features_train,target_train)# < train the model >\n",
        "\n",
        "        predictions_valid = model.predict(features_valid)# < find the predictions using validation set >\n",
        "\n",
        "        print(\"max_depth =\", depth, \": \", end='')\n",
        "        print(accuracy_score(target_valid, predictions_valid))"
      ],
      "execution_count": 19,
      "outputs": [
        {
          "output_type": "stream",
          "name": "stdout",
          "text": [
            "max_depth = 1 : 0.7708333333333334\n",
            "max_depth = 2 : 0.7708333333333334\n",
            "max_depth = 3 : 0.7604166666666666\n",
            "max_depth = 4 : 0.75\n",
            "max_depth = 5 : 0.8177083333333334\n",
            "max_depth = 6 : 0.8229166666666666\n",
            "max_depth = 7 : 0.765625\n",
            "max_depth = 8 : 0.7604166666666666\n",
            "max_depth = 9 : 0.7552083333333334\n",
            "max_depth = 10 : 0.734375\n",
            "max_depth = 11 : 0.765625\n",
            "max_depth = 12 : 0.7604166666666666\n",
            "max_depth = 13 : 0.7447916666666666\n",
            "max_depth = 14 : 0.7447916666666666\n",
            "max_depth = 15 : 0.7395833333333334\n",
            "max_depth = 16 : 0.7447916666666666\n",
            "max_depth = 17 : 0.7604166666666666\n",
            "max_depth = 18 : 0.7760416666666666\n",
            "max_depth = 19 : 0.78125\n",
            "max_depth = 20 : 0.78125\n",
            "max_depth = 21 : 0.78125\n",
            "max_depth = 22 : 0.78125\n",
            "max_depth = 23 : 0.78125\n",
            "max_depth = 24 : 0.78125\n",
            "max_depth = 25 : 0.78125\n",
            "max_depth = 26 : 0.78125\n",
            "max_depth = 27 : 0.78125\n",
            "max_depth = 28 : 0.78125\n",
            "max_depth = 29 : 0.78125\n"
          ]
        }
      ]
    },
    {
      "cell_type": "markdown",
      "metadata": {
        "id": "qBxWGEprFBHt"
      },
      "source": [
        "Observations:#\n",
        "From the above hyperparameter tuning, the maximum accuracy possible is 0.82 achieved at a max depth of 6. At a max_depth of 19 and above, the accuracy remains at 0.78125. \n",
        "\n",
        "Decision Tree model is not the optimal model for the required task as it does not yet hit our goal of 0.85 "
      ]
    },
    {
      "cell_type": "markdown",
      "metadata": {
        "id": "jiVXEJ6GFxfv"
      },
      "source": [
        "# Random Forest Modelling\n"
      ]
    },
    {
      "cell_type": "markdown",
      "metadata": {
        "id": "AUKJnLZrFxfw"
      },
      "source": [
        "Step 1& 2: Data Modelling & Evaluation"
      ]
    },
    {
      "cell_type": "code",
      "metadata": {
        "colab": {
          "base_uri": "https://localhost:8080/"
        },
        "id": "pqTemlJEF27x",
        "outputId": "9098c51a-82ab-49e1-a01a-8e58ffa46c32"
      },
      "source": [
        "from sklearn.ensemble import RandomForestRegressor\n",
        "\n",
        "#create and train the model\n",
        "regressor = RandomForestRegressor(n_estimators=1000, random_state=0)\n",
        "\n",
        "#fit the regressor with X and Y data\n",
        "regressor.fit(features_train,target_train)\n",
        "\n",
        "#we can test the model using test data sets\n",
        "regressor.predict(features_valid)\n",
        "\n",
        "#let's also evaluate the accuracy of the model using the test data set\n",
        "regressor.score(features_valid,target_valid)\n",
        "\n",
        "#the model is 0.36 accurate with n_estimator parameter at 1000"
      ],
      "execution_count": 42,
      "outputs": [
        {
          "output_type": "execute_result",
          "data": {
            "text/plain": [
              "0.35958591515151506"
            ]
          },
          "metadata": {},
          "execution_count": 42
        }
      ]
    },
    {
      "cell_type": "markdown",
      "metadata": {
        "id": "HAOFD-p0GhCo"
      },
      "source": [
        "Step 3: Hyperparameter Tuning"
      ]
    },
    {
      "cell_type": "code",
      "metadata": {
        "colab": {
          "base_uri": "https://localhost:8080/"
        },
        "id": "-pQKvW39KrA4",
        "outputId": "fd9aa36b-fc5e-40d9-8975-f5c74e4824c1"
      },
      "source": [
        "from sklearn.model_selection import GridSearchCV\n",
        "\n",
        "regressor = RandomForestRegressor(n_estimators=100, random_state=0)\n",
        "#< recreate the model\n",
        "\n",
        "regressor.fit(features_train,target_train)\n",
        "\n",
        "param_grid = { \n",
        "    'n_estimators': [200,400,600,1000]\n",
        "}\n",
        "\n",
        "CV_regressor = GridSearchCV(estimator=regressor, param_grid=param_grid, cv= 5)\n",
        "CV_regressor.fit(features_train,target_train)\n",
        "print(CV_regressor.best_params_)\n",
        "\n",
        "#the best parameter(n_estimator) is determined to be 1000 of the options"
      ],
      "execution_count": 43,
      "outputs": [
        {
          "output_type": "stream",
          "name": "stdout",
          "text": [
            "{'n_estimators': 1000}\n"
          ]
        }
      ]
    },
    {
      "cell_type": "markdown",
      "metadata": {
        "id": "F2DVy0T4N3Bn"
      },
      "source": [
        "Observations: at n_estimator 10000 the model can only provide an accuracy of 0.36, optimal parameters to obtain an accuracy of 0.85 or higher is not known. to conclude, the random forest method is not able to provide accuracy higer than our goal. Higher estimators \n",
        "\n",
        "Random Forest is not the optimal model to use for prediciton diabetes diagnosis"
      ]
    },
    {
      "cell_type": "markdown",
      "metadata": {
        "id": "iot0FA3bVkRx"
      },
      "source": [
        "# Logistic Regression Modelling\n"
      ]
    },
    {
      "cell_type": "markdown",
      "metadata": {
        "id": "0Ri7tr6DVkRx"
      },
      "source": [
        "Step 1& 2: Data Modelling & Evaluation"
      ]
    },
    {
      "cell_type": "code",
      "metadata": {
        "colab": {
          "base_uri": "https://localhost:8080/"
        },
        "id": "fmcjlGdQV0uM",
        "outputId": "9ccb53e1-fad6-41ba-947a-0d5274eb3bc8"
      },
      "source": [
        "from sklearn.linear_model import LogisticRegression\n",
        "\n",
        "lr_model = LogisticRegression(random_state=12345,solver='liblinear')\n",
        "#train the model\n",
        "lr_model.fit(features_train,target_train)\n",
        "\n",
        "#See the model's accuracy, call the score() method:\n",
        "test_predictions= lr_model.score(features_valid,target_valid)\n",
        "\n",
        "print(test_predictions)"
      ],
      "execution_count": 45,
      "outputs": [
        {
          "output_type": "stream",
          "name": "stdout",
          "text": [
            "0.7916666666666666\n"
          ]
        }
      ]
    },
    {
      "cell_type": "markdown",
      "metadata": {
        "id": "jwDa6cyEWhu2"
      },
      "source": [
        "Step 3: Hyperparameter Tuning"
      ]
    },
    {
      "cell_type": "code",
      "metadata": {
        "colab": {
          "base_uri": "https://localhost:8080/"
        },
        "id": "XF4RMQzdWk3A",
        "outputId": "bb919473-6fe2-494d-b933-ab4ebf2c0ab2"
      },
      "source": [
        "from sklearn.model_selection import RepeatedStratifiedKFold\n",
        "#create a model and define a dictionary with solver parameters \n",
        "model1 = LogisticRegression(random_state=12345)\n",
        "solvers = ['newton-cg', 'lbfgs', 'liblinear']\n",
        "\n",
        "# define grid search\n",
        "grid = dict(solver=solvers)\n",
        "\n",
        "cv = RepeatedStratifiedKFold(n_splits=10, n_repeats=3, random_state=1)\n",
        "grid_search = GridSearchCV(estimator=model1, param_grid=grid, n_jobs=-1, cv=cv, scoring='accuracy',error_score=0)\n",
        "grid_result = grid_search.fit(features_valid,target_valid)\n",
        "\n",
        "# summarize results\n",
        "print(\"Best: %f using %s\" % (grid_result.best_score_, grid_result.best_params_))"
      ],
      "execution_count": 48,
      "outputs": [
        {
          "output_type": "stream",
          "name": "stdout",
          "text": [
            "Best: 0.774123 using {'solver': 'newton-cg'}\n"
          ]
        }
      ]
    },
    {
      "cell_type": "markdown",
      "metadata": {
        "id": "0F5Jm6TTYR2U"
      },
      "source": [
        "Observation: using logistic regression, does not help us achieve our accuracy goral of 0.85 and above, the highest possible accuracy is 77% using the newton-cg solver.\n",
        "\n",
        "Logistic regression is not the optimal model to achieve our accuracy goal in determining diabetes diagnosis"
      ]
    },
    {
      "cell_type": "markdown",
      "metadata": {
        "id": "OHHs6PtcY9Pv"
      },
      "source": [
        "# Findings and Recommendations\n"
      ]
    },
    {
      "cell_type": "markdown",
      "metadata": {
        "id": "z8oQXBuzZCAO"
      },
      "source": [
        "Of all three models tested, the seemingly best model to use would be deicison tree model that would give us the highest accuracy of 82% with a max_depth paramtere of 6. \n",
        "\n",
        "Random forest modelling could also return a value close to the 0.85 accuracy with the correct n_estimator hyperparameter. in the above analysis we found estimators higher than 1000 caused the cell to run for long periods, not returning a best parameter above 1000. \n",
        "\n",
        "**Recommendation**: Use the decision tree classifier model to predict diabetes diagnosis."
      ]
    }
  ]
}